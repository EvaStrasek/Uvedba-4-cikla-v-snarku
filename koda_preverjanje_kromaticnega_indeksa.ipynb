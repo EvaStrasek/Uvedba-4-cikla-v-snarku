{
 "cells": [
  {
   "cell_type": "markdown",
   "metadata": {},
   "source": [
    "# OPERACIJSKE RAZISKAVE PROJEKT"
   ]
  },
  {
   "cell_type": "markdown",
   "metadata": {},
   "source": [
    "Najprej bomo definiriali nekaj snarkov na katerih bomo preverjali ali se kromatični indeks ohrani ali ne."
   ]
  },
  {
   "cell_type": "code",
   "execution_count": 3,
   "metadata": {},
   "outputs": [],
   "source": [
    "G = graphs.PetersenGraph()\n",
    "celmins_swart_snark_1 = Graph({0: [1, 2, 3], 1: [0, 23, 25], 2: [0, 21, 24], 3: [0, 20, 22],4: [8, 12, 14], 5: [6, 8, 13], 6: [5, 9, 14], 7: [10, 11, 15],8: [4, 5, 18], 9: [6, 10, 18], 10: [7, 9, 17], 11: [7, 19, 22],12: [4, 13, 25], 13: [5, 12, 21], 14: [4, 6, 21], 15: [7, 16, 20],16: [15, 17, 22], 17: [10, 16, 23], 18: [8, 9, 23], 19: [11, 20, 24],20: [3, 15, 19], 21: [2, 13, 14], 22: [3, 11, 16], 23: [1, 17, 18],24: [2, 19, 25], 25: [1, 12, 24]})\n",
    "celmins_swart_snark_2 = Graph({0: [1, 2, 3], 1: [0, 21, 25], 2: [0, 22, 23], 3: [0, 20, 24],4: [5, 6, 9], 5: [4, 13, 16], 6: [4, 12, 17], 7: [8, 11, 17],8: [7, 12, 19], 9: [4, 10, 14], 10: [9, 11, 16], 11: [7, 10, 18], 12: [6, 8, 15], 13: [5, 14, 15], 14: [9, 13, 23], 15: [12, 13, 20],16: [5, 10, 21], 17: [6, 7, 20], 18: [11, 19, 21], 19: [8, 18, 22],20: [3, 15, 17], 21: [1, 16, 18], 22: [2, 19, 25], 23: [2, 14, 24],24: [3, 23, 25], 25: [1, 22, 24]})\n",
    "double_star_snark = Graph({0: [1, 2, 3], 1: [0, 24, 27], 2: [0, 26, 29], 3: [0, 25, 28],4: [7, 8, 15], 5: [6, 11, 14], 6: [5, 10, 15], 7: [4, 9, 14],8: [4, 12, 16], 9: [7, 13, 17], 10: [6, 12, 17], 11: [5, 13, 16],12: [8, 10, 20], 13: [9, 11, 21], 14: [5, 7, 26], 15: [4, 6, 25],16: [8, 11, 27], 17: [9, 10, 27], 18: [21, 23, 29], 19: [20, 22, 28],20: [12, 19, 29], 21: [13, 18, 28], 22: [19, 24, 26], 23: [18, 24, 25],24: [1, 22, 23], 25: [3, 15, 23], 26: [2, 14, 22], 27: [1, 16, 17],28: [3, 19, 21], 29: [2, 18, 20]})\n",
    "flower_snark_j5 = Graph({0: [1, 2, 3], 1: [0, 14, 15], 2: [0, 17, 19], 3: [0, 16, 18],4: [7, 8, 9], 5: [6, 10, 11], 6: [5, 9, 14], 7: [4, 10, 15],8: [4, 11, 16], 9: [4, 6, 17], 10: [5, 7, 19], 11: [5, 8, 18],12: [14, 18, 19], 13: [15, 16, 17], 14: [1, 6, 12], 15: [1, 7, 13],16: [3, 8, 13], 17: [2, 9, 13], 18: [3, 11, 12], 19: [2, 10, 12]})\n",
    "flower_snark_j7 = Graph({0: [1, 2, 3], 1: [0, 22, 23], 2: [0, 25, 27], 3: [0, 24, 26],4: [7, 8, 12], 5: [6, 9, 12], 6: [5, 11, 13], 7: [4, 10, 13],8: [4, 14, 18], 9: [5, 14, 21], 10: [7, 15, 20], 11: [6, 15, 19],12: [4, 5, 17], 13: [6, 7, 16], 14: [8, 9, 26], 15: [10, 11, 27],16: [13, 17, 27], 17: [12, 16, 26], 18: [8, 22, 24], 19: [11, 22, 25],20: [10, 23, 25], 21: [9, 23, 24], 22: [1, 18, 19], 23: [1, 20, 21],24: [3, 18, 21], 25: [2, 19, 20], 26: [3, 14, 17], 27: [2, 15, 16]})\n",
    "goldberg_snark_3 = Graph({0: [1, 2, 3], 1: [0, 18, 20], 2: [0, 19, 21], 3: [0, 22, 23], 4: [5, 8, 13],5: [4, 9, 14], 6: [7, 10, 15], 7: [6, 11, 12], 8: [4, 12, 16],9: [5, 15, 17], 10: [6, 14, 17], 11: [7, 13, 16], 12: [7, 8, 21],13: [4, 11, 18], 14: [5, 10, 19], 15: [6, 9, 20], 16: [8, 11, 23],19: [9, 10, 22], 18: [1, 13, 19], 19: [2, 14, 18], 20: [1, 15, 21],21: [2, 12, 20], 22: [3, 17, 23], 23: [3, 16, 22]})\n",
    "goldberg_snark_5 = Graph({0: [1, 2, 3], 1: [0, 34, 39], 2: [0, 35, 37], 3: [0, 36, 38],4: [26, 27, 33], 5: [24, 25, 32], 6: [22, 23, 25], 7: [13, 14, 24],8: [23, 30, 31], 9: [10, 11, 22], 10: [11, 18, 21], 11: [9, 19, 20],12: [13, 16, 27], 13: [7, 12, 15], 14: [7, 16, 28], 15: [13, 19, 28],16: [12, 14, 21], 17: [20, 29, 30], 18: [10, 19, 31], 19: [11, 15, 18],20: [11, 17, 21], 21: [10, 16, 20], 22: [6, 9, 24], 23: [6, 8, 29],24: [5, 7, 22], 25: [5, 6, 39], 26: [4, 32, 37], 27: [4, 12, 35],28: [14, 15, 37], 29: [17, 23, 36], 30: [8, 17, 34], 31: [8, 18, 36],32: [5, 26, 35], 33: [4, 34, 38], 34: [1, 30, 33], 35: [2, 27, 32],36: [3, 29, 31], 37: [2, 26, 28], 38: [3, 33, 39], 39: [1, 25, 38]})\n",
    "loupekines_snark_1 = Graph({0: [1, 2, 3], 1: [0, 16, 21], 2: [0, 18, 20], 3: [0, 17, 19],4: [10, 12, 14], 5: [11, 13, 15], 6: [9, 12, 15], 7: [8, 13, 14],8: [7, 10, 16], 9: [6, 11, 16], 10: [4, 8, 17], 11: [5, 9, 18],12: [4, 6, 18], 13: [5, 7, 17], 14: [4, 7, 20], 15: [5, 6, 19],16: [1, 8, 9], 17: [3, 10, 13], 18: [2, 11, 12], 19: [3, 15, 21],20: [2, 14, 21], 21: [1, 19, 20]})\n",
    "loupekines_snark_2 = Graph({0: [1, 2, 3], 1: [0, 16, 21], 2: [0, 18, 20], 3: [0, 17, 19],4: [8, 10, 14], 5: [9, 11, 15], 6: [7, 12, 15], 7: [6, 13, 14],8: [4, 13, 16], 9: [5, 12, 16], 10: [4, 11, 17], 11: [5, 10, 18],12: [6, 9, 18], 13: [7, 8, 17], 14: [4, 7, 20], 15: [5, 6, 19],16: [1, 8, 9], 17: [3, 10, 13], 18: [2, 11, 12], 19: [3, 15, 21],20: [2, 14, 21], 21: [1, 19, 20]})\n",
    "snark_2760 = Graph({0: [1, 2, 3], 1: [0, 15, 17], 2: [0, 14, 16], 3: [0, 12, 13], 4: [5, 9, 11],5: [4, 7, 8], 6: [7, 9, 12], 7: [5, 6, 13], 8: [5, 10, 12], 9: [4, 6, 16],10: [8, 13, 17], 11: [4, 14, 15], 12: [3, 6, 8], 13: [3, 7, 10], 14: [2, 11, 17],15: [1, 11, 16], 16: [2, 9, 15], 17: [1, 10, 14]})\n",
    "snark_3337 = Graph({0: [1, 2, 3], 1: [0, 29, 32], 2: [0, 28, 33], 3: [0, 30, 31], 4: [12, 14, 18],5: [13, 15, 19], 6: [11, 14, 16], 7: [10, 15, 17], 8: [9, 26, 27], 9: [8, 16, 17],10: [7, 13, 20], 11: [6, 12, 21], 12: [4, 11, 23], 13: [5, 10, 22],14: [4, 6, 24], 15: [5, 7, 25], 16: [6, 9, 23], 17: [7, 9, 22], 18: [4, 21, 25],19: [5, 20, 24], 20: [10, 19, 31], 21: [11, 18, 30], 22: [13, 17, 31],23: [12, 16, 30], 24: [14, 19, 29], 25: [15, 18, 28], 26: [8, 29, 33], 27: [8, 28, 32], 28: [2, 25, 27], 29: [1, 24, 26], 30: [3, 21, 23], 31: [3, 20, 22], 32: [1, 27, 33], 33: [2, 26, 32]})\n",
    "snark_3363 = Graph({0: [1, 2, 3], 1: [0, 30, 35], 2: [0, 32, 34], 3: [0, 31, 33], 4: [11, 25, 29],5: [9, 10, 27], 6: [8, 12, 29], 7: [15, 24, 28], 8: [6, 17, 26], 9: [5, 11, 16],10: [5, 13, 28], 11: [4, 9, 14], 12: [6, 19, 24], 13: [10, 18, 25], 14: [11, 15, 20],15: [7, 14, 21], 16: [9, 17, 21], 17: [8, 16, 20], 18: [13, 23, 27], 19: [12, 23, 26], 20: [14, 17, 22], 21: [15, 16, 22], 22: [20, 21, 30],23: [18, 19, 30], 24: [7, 12, 32], 25: [4, 13, 31], 26: [8, 19, 32], 27: [5, 18, 31], 28: [7, 10, 34], 29: [4, 6, 33], 30: [1, 22, 23], 31: [3, 25, 27],32: [2, 24, 26], 33: [3, 29, 35], 34: [2, 28, 35], 35: [1, 33, 34]})\n",
    "graf_25159 = Graph({0: [1, 2, 3], 1: [0, 42, 43], 2: [0, 39, 40], 3: [0, 38, 41], 4: [9, 12, 13], 5: [8, 10, 11], 6: [7, 14, 16], 7: [6, 15, 17], 8: [5, 14, 15], 9: [4, 16, 17], 10: [5, 13, 18], 11: [5, 12, 19], 12: [4, 11, 18], 13: [4, 10, 19], 14: [6, 8, 20], 15: [7, 8, 21], 16: [6, 9, 21], 17: [7, 9, 20], 18: [10, 12, 22], 19: [11, 13, 23], 20: [14, 17, 25], 21: [15, 16, 24], 22: [18, 28, 29], 23: [19, 26, 27], 24: [21, 32, 33], 25: [20, 30, 31], 26: [23, 29, 34], 27: [23, 28, 35], 28: [22, 27, 34], 29: [22, 26, 35], 30: [25, 33, 37], 31: [25, 32, 36], 32: [24, 31, 37], 33: [24, 30, 36], 34: [26, 28, 38], 35: [27, 29, 39], 36: [31, 33, 41], 37: [30, 32, 40], 38: [3, 34, 43], 39: [2, 35, 42], 40: [2, 37, 43], 41: [3, 36, 42], 42: [1, 39, 41], 43: [1, 38, 40]})"
   ]
  },
  {
   "cell_type": "markdown",
   "metadata": {},
   "source": [
    "Nato bomo pogledali kako vpeljava 4-ciklov po prvem načinu vpliva na kromatični indeks. Za lažjo uporabo sva napisali funkcijo, ki kot argumente sprejme snark na katerem bomo vpeljali 4-cikel, potem pa še zaporedna vozlišča, ki nam bodo dali robe na katere bomo dodajali vozlišča u1, u2, v1 in v2. Funkcija na koncu vrne kromatični indeks novo nastalega grafa."
   ]
  },
  {
   "cell_type": "code",
   "execution_count": 4,
   "metadata": {},
   "outputs": [],
   "source": [
    "def nov_kromaticni_indeks(snark, a, b, c, d):\n",
    "    \n",
    "    #določimo rob ab, na katerega bomo dodali vozlišči u1 in u2.\n",
    "    first_edge_to_subdivide = (a, b)\n",
    "    \n",
    "    #dodamo vozlišči u1 in u2 ter pazimo da pri tem nastane pot au1bu2\n",
    "    snark.add_edge(first_edge_to_subdivide[0], 'u1')\n",
    "    snark.add_edge('u1', 'u2')\n",
    "    snark.add_edge('u2', first_edge_to_subdivide[1])\n",
    "    \n",
    "    #enako naredimo še za rob cb\n",
    "    second_edge_to_subdivide = (c, d)\n",
    "    \n",
    "    snark.add_edge(second_edge_to_subdivide[0], 'v1')\n",
    "    snark.add_edge('v1', 'v2')\n",
    "    snark.add_edge('v2', second_edge_to_subdivide[1])\n",
    "    \n",
    "    #ko smo dodali vse potrebne poti, povežemo u1 z v1 in u2 z v2\n",
    "    snark.add_edge('u1','v1')\n",
    "    snark.add_edge('u2','v2')\n",
    "    \n",
    "    #na koncu samo še izračunamo kromatični indeks\n",
    "    return snark.chromatic_index()    "
   ]
  },
  {
   "cell_type": "code",
   "execution_count": 5,
   "metadata": {},
   "outputs": [
    {
     "data": {
      "text/plain": [
       "4"
      ]
     },
     "execution_count": 5,
     "metadata": {},
     "output_type": "execute_result"
    }
   ],
   "source": [
    "nov_kromaticni_indeks(G, 1, 2, 5, 7)"
   ]
  },
  {
   "cell_type": "code",
   "execution_count": 6,
   "metadata": {},
   "outputs": [
    {
     "data": {
      "text/plain": [
       "4"
      ]
     },
     "execution_count": 6,
     "metadata": {},
     "output_type": "execute_result"
    }
   ],
   "source": [
    "nov_kromaticni_indeks(celmins_swart_snark_1, 1, 2, 3, 4)"
   ]
  },
  {
   "cell_type": "code",
   "execution_count": 7,
   "metadata": {},
   "outputs": [
    {
     "data": {
      "text/plain": [
       "4"
      ]
     },
     "execution_count": 7,
     "metadata": {},
     "output_type": "execute_result"
    }
   ],
   "source": [
    "nov_kromaticni_indeks(celmins_swart_snark_2, 1, 2, 3, 4)"
   ]
  },
  {
   "cell_type": "code",
   "execution_count": 8,
   "metadata": {},
   "outputs": [
    {
     "data": {
      "text/plain": [
       "4"
      ]
     },
     "execution_count": 8,
     "metadata": {},
     "output_type": "execute_result"
    }
   ],
   "source": [
    "nov_kromaticni_indeks(double_star_snark, 1, 2, 3, 4)"
   ]
  },
  {
   "cell_type": "code",
   "execution_count": 9,
   "metadata": {},
   "outputs": [
    {
     "data": {
      "text/plain": [
       "4"
      ]
     },
     "execution_count": 9,
     "metadata": {},
     "output_type": "execute_result"
    }
   ],
   "source": [
    "nov_kromaticni_indeks(flower_snark_j5, 1, 2, 3, 4)"
   ]
  },
  {
   "cell_type": "code",
   "execution_count": 10,
   "metadata": {},
   "outputs": [
    {
     "data": {
      "text/plain": [
       "4"
      ]
     },
     "execution_count": 10,
     "metadata": {},
     "output_type": "execute_result"
    }
   ],
   "source": [
    "nov_kromaticni_indeks(flower_snark_j7, 1, 2, 3, 4)"
   ]
  },
  {
   "cell_type": "code",
   "execution_count": 11,
   "metadata": {},
   "outputs": [
    {
     "data": {
      "text/plain": [
       "4"
      ]
     },
     "execution_count": 11,
     "metadata": {},
     "output_type": "execute_result"
    }
   ],
   "source": [
    "nov_kromaticni_indeks(goldberg_snark_3, 1, 2, 3, 4)"
   ]
  },
  {
   "cell_type": "code",
   "execution_count": 12,
   "metadata": {},
   "outputs": [
    {
     "data": {
      "text/plain": [
       "4"
      ]
     },
     "execution_count": 12,
     "metadata": {},
     "output_type": "execute_result"
    }
   ],
   "source": [
    "nov_kromaticni_indeks(goldberg_snark_5, 1, 2, 3, 4)"
   ]
  },
  {
   "cell_type": "code",
   "execution_count": 13,
   "metadata": {},
   "outputs": [
    {
     "data": {
      "text/plain": [
       "4"
      ]
     },
     "execution_count": 13,
     "metadata": {},
     "output_type": "execute_result"
    }
   ],
   "source": [
    "nov_kromaticni_indeks(loupekines_snark_1, 1, 2, 3, 4)"
   ]
  },
  {
   "cell_type": "code",
   "execution_count": 14,
   "metadata": {},
   "outputs": [
    {
     "data": {
      "text/plain": [
       "4"
      ]
     },
     "execution_count": 14,
     "metadata": {},
     "output_type": "execute_result"
    }
   ],
   "source": [
    "nov_kromaticni_indeks(loupekines_snark_2, 1, 2, 3, 4)"
   ]
  },
  {
   "cell_type": "code",
   "execution_count": 15,
   "metadata": {},
   "outputs": [
    {
     "data": {
      "text/plain": [
       "4"
      ]
     },
     "execution_count": 15,
     "metadata": {},
     "output_type": "execute_result"
    }
   ],
   "source": [
    "nov_kromaticni_indeks(snark_2760, 1, 2, 3, 4)"
   ]
  },
  {
   "cell_type": "code",
   "execution_count": 16,
   "metadata": {},
   "outputs": [
    {
     "data": {
      "text/plain": [
       "4"
      ]
     },
     "execution_count": 16,
     "metadata": {},
     "output_type": "execute_result"
    }
   ],
   "source": [
    "nov_kromaticni_indeks(snark_3337, 1, 2, 3, 4)"
   ]
  },
  {
   "cell_type": "code",
   "execution_count": 17,
   "metadata": {},
   "outputs": [
    {
     "data": {
      "text/plain": [
       "4"
      ]
     },
     "execution_count": 17,
     "metadata": {},
     "output_type": "execute_result"
    }
   ],
   "source": [
    "nov_kromaticni_indeks(snark_3363, 1, 2, 3, 4)"
   ]
  },
  {
   "cell_type": "code",
   "execution_count": 18,
   "metadata": {},
   "outputs": [
    {
     "data": {
      "text/plain": [
       "4"
      ]
     },
     "execution_count": 18,
     "metadata": {},
     "output_type": "execute_result"
    }
   ],
   "source": [
    "nov_kromaticni_indeks(graf_25159, 1, 2, 3, 4)"
   ]
  },
  {
   "cell_type": "markdown",
   "metadata": {},
   "source": [
    "Zdaj bomo pogledali še kaj se zgodi ko naključno izberemo dve povezavi na kateri dodamo vozlišča u1, u2, v1 in v2. Zopet bomo napisali funkcijo, ki kot argument sprejme zgolj snark na katerem bomo izvajali zgornji postopek. Vrne pa nam kromatični indeks novo nastalega grafa."
   ]
  },
  {
   "cell_type": "code",
   "execution_count": 19,
   "metadata": {},
   "outputs": [],
   "source": [
    "G = graphs.PetersenGraph()\n",
    "celmins_swart_snark_1 = Graph({0: [1, 2, 3], 1: [0, 23, 25], 2: [0, 21, 24], 3: [0, 20, 22],4: [8, 12, 14], 5: [6, 8, 13], 6: [5, 9, 14], 7: [10, 11, 15],8: [4, 5, 18], 9: [6, 10, 18], 10: [7, 9, 17], 11: [7, 19, 22],12: [4, 13, 25], 13: [5, 12, 21], 14: [4, 6, 21], 15: [7, 16, 20],16: [15, 17, 22], 17: [10, 16, 23], 18: [8, 9, 23], 19: [11, 20, 24],20: [3, 15, 19], 21: [2, 13, 14], 22: [3, 11, 16], 23: [1, 17, 18],24: [2, 19, 25], 25: [1, 12, 24]})\n",
    "celmins_swart_snark_2 = Graph({0: [1, 2, 3], 1: [0, 21, 25], 2: [0, 22, 23], 3: [0, 20, 24],4: [5, 6, 9], 5: [4, 13, 16], 6: [4, 12, 17], 7: [8, 11, 17],8: [7, 12, 19], 9: [4, 10, 14], 10: [9, 11, 16], 11: [7, 10, 18], 12: [6, 8, 15], 13: [5, 14, 15], 14: [9, 13, 23], 15: [12, 13, 20],16: [5, 10, 21], 17: [6, 7, 20], 18: [11, 19, 21], 19: [8, 18, 22],20: [3, 15, 17], 21: [1, 16, 18], 22: [2, 19, 25], 23: [2, 14, 24],24: [3, 23, 25], 25: [1, 22, 24]})\n",
    "double_star_snark = Graph({0: [1, 2, 3], 1: [0, 24, 27], 2: [0, 26, 29], 3: [0, 25, 28],4: [7, 8, 15], 5: [6, 11, 14], 6: [5, 10, 15], 7: [4, 9, 14],8: [4, 12, 16], 9: [7, 13, 17], 10: [6, 12, 17], 11: [5, 13, 16],12: [8, 10, 20], 13: [9, 11, 21], 14: [5, 7, 26], 15: [4, 6, 25],16: [8, 11, 27], 17: [9, 10, 27], 18: [21, 23, 29], 19: [20, 22, 28],20: [12, 19, 29], 21: [13, 18, 28], 22: [19, 24, 26], 23: [18, 24, 25],24: [1, 22, 23], 25: [3, 15, 23], 26: [2, 14, 22], 27: [1, 16, 17],28: [3, 19, 21], 29: [2, 18, 20]})\n",
    "flower_snark_j5 = Graph({0: [1, 2, 3], 1: [0, 14, 15], 2: [0, 17, 19], 3: [0, 16, 18],4: [7, 8, 9], 5: [6, 10, 11], 6: [5, 9, 14], 7: [4, 10, 15],8: [4, 11, 16], 9: [4, 6, 17], 10: [5, 7, 19], 11: [5, 8, 18],12: [14, 18, 19], 13: [15, 16, 17], 14: [1, 6, 12], 15: [1, 7, 13],16: [3, 8, 13], 17: [2, 9, 13], 18: [3, 11, 12], 19: [2, 10, 12]})\n",
    "flower_snark_j7 = Graph({0: [1, 2, 3], 1: [0, 22, 23], 2: [0, 25, 27], 3: [0, 24, 26],4: [7, 8, 12], 5: [6, 9, 12], 6: [5, 11, 13], 7: [4, 10, 13],8: [4, 14, 18], 9: [5, 14, 21], 10: [7, 15, 20], 11: [6, 15, 19],12: [4, 5, 17], 13: [6, 7, 16], 14: [8, 9, 26], 15: [10, 11, 27],16: [13, 17, 27], 17: [12, 16, 26], 18: [8, 22, 24], 19: [11, 22, 25],20: [10, 23, 25], 21: [9, 23, 24], 22: [1, 18, 19], 23: [1, 20, 21],24: [3, 18, 21], 25: [2, 19, 20], 26: [3, 14, 17], 27: [2, 15, 16]})\n",
    "goldberg_snark_3 = Graph({0: [1, 2, 3], 1: [0, 18, 20], 2: [0, 19, 21], 3: [0, 22, 23], 4: [5, 8, 13],5: [4, 9, 14], 6: [7, 10, 15], 7: [6, 11, 12], 8: [4, 12, 16],9: [5, 15, 17], 10: [6, 14, 17], 11: [7, 13, 16], 12: [7, 8, 21],13: [4, 11, 18], 14: [5, 10, 19], 15: [6, 9, 20], 16: [8, 11, 23],19: [9, 10, 22], 18: [1, 13, 19], 19: [2, 14, 18], 20: [1, 15, 21],21: [2, 12, 20], 22: [3, 17, 23], 23: [3, 16, 22]})\n",
    "goldberg_snark_5 = Graph({0: [1, 2, 3], 1: [0, 34, 39], 2: [0, 35, 37], 3: [0, 36, 38],4: [26, 27, 33], 5: [24, 25, 32], 6: [22, 23, 25], 7: [13, 14, 24],8: [23, 30, 31], 9: [10, 11, 22], 10: [11, 18, 21], 11: [9, 19, 20],12: [13, 16, 27], 13: [7, 12, 15], 14: [7, 16, 28], 15: [13, 19, 28],16: [12, 14, 21], 17: [20, 29, 30], 18: [10, 19, 31], 19: [11, 15, 18],20: [11, 17, 21], 21: [10, 16, 20], 22: [6, 9, 24], 23: [6, 8, 29],24: [5, 7, 22], 25: [5, 6, 39], 26: [4, 32, 37], 27: [4, 12, 35],28: [14, 15, 37], 29: [17, 23, 36], 30: [8, 17, 34], 31: [8, 18, 36],32: [5, 26, 35], 33: [4, 34, 38], 34: [1, 30, 33], 35: [2, 27, 32],36: [3, 29, 31], 37: [2, 26, 28], 38: [3, 33, 39], 39: [1, 25, 38]})\n",
    "loupekines_snark_1 = Graph({0: [1, 2, 3], 1: [0, 16, 21], 2: [0, 18, 20], 3: [0, 17, 19],4: [10, 12, 14], 5: [11, 13, 15], 6: [9, 12, 15], 7: [8, 13, 14],8: [7, 10, 16], 9: [6, 11, 16], 10: [4, 8, 17], 11: [5, 9, 18],12: [4, 6, 18], 13: [5, 7, 17], 14: [4, 7, 20], 15: [5, 6, 19],16: [1, 8, 9], 17: [3, 10, 13], 18: [2, 11, 12], 19: [3, 15, 21],20: [2, 14, 21], 21: [1, 19, 20]})\n",
    "loupekines_snark_2 = Graph({0: [1, 2, 3], 1: [0, 16, 21], 2: [0, 18, 20], 3: [0, 17, 19],4: [8, 10, 14], 5: [9, 11, 15], 6: [7, 12, 15], 7: [6, 13, 14],8: [4, 13, 16], 9: [5, 12, 16], 10: [4, 11, 17], 11: [5, 10, 18],12: [6, 9, 18], 13: [7, 8, 17], 14: [4, 7, 20], 15: [5, 6, 19],16: [1, 8, 9], 17: [3, 10, 13], 18: [2, 11, 12], 19: [3, 15, 21],20: [2, 14, 21], 21: [1, 19, 20]})\n",
    "snark_2760 = Graph({0: [1, 2, 3], 1: [0, 15, 17], 2: [0, 14, 16], 3: [0, 12, 13], 4: [5, 9, 11],5: [4, 7, 8], 6: [7, 9, 12], 7: [5, 6, 13], 8: [5, 10, 12], 9: [4, 6, 16],10: [8, 13, 17], 11: [4, 14, 15], 12: [3, 6, 8], 13: [3, 7, 10], 14: [2, 11, 17],15: [1, 11, 16], 16: [2, 9, 15], 17: [1, 10, 14]})\n",
    "snark_3337 = Graph({0: [1, 2, 3], 1: [0, 29, 32], 2: [0, 28, 33], 3: [0, 30, 31], 4: [12, 14, 18],5: [13, 15, 19], 6: [11, 14, 16], 7: [10, 15, 17], 8: [9, 26, 27], 9: [8, 16, 17],10: [7, 13, 20], 11: [6, 12, 21], 12: [4, 11, 23], 13: [5, 10, 22],14: [4, 6, 24], 15: [5, 7, 25], 16: [6, 9, 23], 17: [7, 9, 22], 18: [4, 21, 25],19: [5, 20, 24], 20: [10, 19, 31], 21: [11, 18, 30], 22: [13, 17, 31],23: [12, 16, 30], 24: [14, 19, 29], 25: [15, 18, 28], 26: [8, 29, 33], 27: [8, 28, 32], 28: [2, 25, 27], 29: [1, 24, 26], 30: [3, 21, 23], 31: [3, 20, 22], 32: [1, 27, 33], 33: [2, 26, 32]})\n",
    "snark_3363 = Graph({0: [1, 2, 3], 1: [0, 30, 35], 2: [0, 32, 34], 3: [0, 31, 33], 4: [11, 25, 29],5: [9, 10, 27], 6: [8, 12, 29], 7: [15, 24, 28], 8: [6, 17, 26], 9: [5, 11, 16],10: [5, 13, 28], 11: [4, 9, 14], 12: [6, 19, 24], 13: [10, 18, 25], 14: [11, 15, 20],15: [7, 14, 21], 16: [9, 17, 21], 17: [8, 16, 20], 18: [13, 23, 27], 19: [12, 23, 26], 20: [14, 17, 22], 21: [15, 16, 22], 22: [20, 21, 30],23: [18, 19, 30], 24: [7, 12, 32], 25: [4, 13, 31], 26: [8, 19, 32], 27: [5, 18, 31], 28: [7, 10, 34], 29: [4, 6, 33], 30: [1, 22, 23], 31: [3, 25, 27],32: [2, 24, 26], 33: [3, 29, 35], 34: [2, 28, 35], 35: [1, 33, 34]})\n",
    "graf_25159 = Graph({0: [1, 2, 3], 1: [0, 42, 43], 2: [0, 39, 40], 3: [0, 38, 41], 4: [9, 12, 13], 5: [8, 10, 11], 6: [7, 14, 16], 7: [6, 15, 17], 8: [5, 14, 15], 9: [4, 16, 17], 10: [5, 13, 18], 11: [5, 12, 19], 12: [4, 11, 18], 13: [4, 10, 19], 14: [6, 8, 20], 15: [7, 8, 21], 16: [6, 9, 21], 17: [7, 9, 20], 18: [10, 12, 22], 19: [11, 13, 23], 20: [14, 17, 25], 21: [15, 16, 24], 22: [18, 28, 29], 23: [19, 26, 27], 24: [21, 32, 33], 25: [20, 30, 31], 26: [23, 29, 34], 27: [23, 28, 35], 28: [22, 27, 34], 29: [22, 26, 35], 30: [25, 33, 37], 31: [25, 32, 36], 32: [24, 31, 37], 33: [24, 30, 36], 34: [26, 28, 38], 35: [27, 29, 39], 36: [31, 33, 41], 37: [30, 32, 40], 38: [3, 34, 43], 39: [2, 35, 42], 40: [2, 37, 43], 41: [3, 36, 42], 42: [1, 39, 41], 43: [1, 38, 40]})"
   ]
  },
  {
   "cell_type": "code",
   "execution_count": 21,
   "metadata": {},
   "outputs": [],
   "source": [
    "import random\n",
    "\n",
    "def nakljucni_izbor_kromaticni_indeks(snark):\n",
    "    \n",
    "    #naključno zberemo dva robova pri tem pazimo da ne izberemo dveh istih robov\n",
    "    random_edge1 = random.choice(snark.edges())\n",
    "    random_edge2 = random.choice([edge for edge in snark.edges() if edge != random_edge1])\n",
    "    \n",
    "    #zopet dodamo potrebna vozlišča\n",
    "    snark.add_edge(random_edge1[0], 'u1')\n",
    "    snark.add_edge('u2', random_edge1[1])\n",
    "    snark.add_edge('u1', 'u2')\n",
    "    \n",
    "    snark.add_edge(random_edge2[0], 'v1')\n",
    "    snark.add_edge('v2', random_edge2[1])\n",
    "    snark.add_edge('v1', 'v2')\n",
    "    \n",
    "    #povežemo u1 z v1 in u2 z v2\n",
    "    snark.add_edge('u1', 'v1')\n",
    "    snark.add_edge('u2', 'v2')\n",
    "        \n",
    "    \n",
    "    return snark.chromatic_index()"
   ]
  },
  {
   "cell_type": "code",
   "execution_count": 22,
   "metadata": {},
   "outputs": [
    {
     "data": {
      "text/plain": [
       "4"
      ]
     },
     "execution_count": 22,
     "metadata": {},
     "output_type": "execute_result"
    }
   ],
   "source": [
    "nakljucni_izbor_kromaticni_indeks(G)"
   ]
  },
  {
   "cell_type": "code",
   "execution_count": 23,
   "metadata": {},
   "outputs": [
    {
     "data": {
      "text/plain": [
       "4"
      ]
     },
     "execution_count": 23,
     "metadata": {},
     "output_type": "execute_result"
    }
   ],
   "source": [
    "nakljucni_izbor_kromaticni_indeks(celmins_swart_snark_1)"
   ]
  },
  {
   "cell_type": "code",
   "execution_count": 24,
   "metadata": {},
   "outputs": [
    {
     "data": {
      "text/plain": [
       "5"
      ]
     },
     "execution_count": 24,
     "metadata": {},
     "output_type": "execute_result"
    }
   ],
   "source": [
    "nakljucni_izbor_kromaticni_indeks(celmins_swart_snark_2)"
   ]
  },
  {
   "cell_type": "code",
   "execution_count": 25,
   "metadata": {},
   "outputs": [
    {
     "data": {
      "text/plain": [
       "4"
      ]
     },
     "execution_count": 25,
     "metadata": {},
     "output_type": "execute_result"
    }
   ],
   "source": [
    "nakljucni_izbor_kromaticni_indeks(double_star_snark)"
   ]
  },
  {
   "cell_type": "code",
   "execution_count": 26,
   "metadata": {},
   "outputs": [
    {
     "data": {
      "text/plain": [
       "5"
      ]
     },
     "execution_count": 26,
     "metadata": {},
     "output_type": "execute_result"
    }
   ],
   "source": [
    "nakljucni_izbor_kromaticni_indeks(flower_snark_j5)"
   ]
  },
  {
   "cell_type": "code",
   "execution_count": 27,
   "metadata": {},
   "outputs": [
    {
     "data": {
      "text/plain": [
       "4"
      ]
     },
     "execution_count": 27,
     "metadata": {},
     "output_type": "execute_result"
    }
   ],
   "source": [
    "nakljucni_izbor_kromaticni_indeks(flower_snark_j7)"
   ]
  },
  {
   "cell_type": "code",
   "execution_count": 28,
   "metadata": {},
   "outputs": [
    {
     "data": {
      "text/plain": [
       "5"
      ]
     },
     "execution_count": 28,
     "metadata": {},
     "output_type": "execute_result"
    }
   ],
   "source": [
    "nakljucni_izbor_kromaticni_indeks(goldberg_snark_3)"
   ]
  },
  {
   "cell_type": "code",
   "execution_count": 29,
   "metadata": {},
   "outputs": [
    {
     "data": {
      "text/plain": [
       "4"
      ]
     },
     "execution_count": 29,
     "metadata": {},
     "output_type": "execute_result"
    }
   ],
   "source": [
    "nakljucni_izbor_kromaticni_indeks(goldberg_snark_5)"
   ]
  },
  {
   "cell_type": "code",
   "execution_count": 30,
   "metadata": {},
   "outputs": [
    {
     "data": {
      "text/plain": [
       "4"
      ]
     },
     "execution_count": 30,
     "metadata": {},
     "output_type": "execute_result"
    }
   ],
   "source": [
    "nakljucni_izbor_kromaticni_indeks(loupekines_snark_1)"
   ]
  },
  {
   "cell_type": "code",
   "execution_count": 31,
   "metadata": {},
   "outputs": [
    {
     "data": {
      "text/plain": [
       "4"
      ]
     },
     "execution_count": 31,
     "metadata": {},
     "output_type": "execute_result"
    }
   ],
   "source": [
    "nakljucni_izbor_kromaticni_indeks(loupekines_snark_2)"
   ]
  },
  {
   "cell_type": "code",
   "execution_count": 32,
   "metadata": {},
   "outputs": [
    {
     "data": {
      "text/plain": [
       "4"
      ]
     },
     "execution_count": 32,
     "metadata": {},
     "output_type": "execute_result"
    }
   ],
   "source": [
    "nakljucni_izbor_kromaticni_indeks(snark_2760)"
   ]
  },
  {
   "cell_type": "code",
   "execution_count": 33,
   "metadata": {},
   "outputs": [
    {
     "data": {
      "text/plain": [
       "4"
      ]
     },
     "execution_count": 33,
     "metadata": {},
     "output_type": "execute_result"
    }
   ],
   "source": [
    "nakljucni_izbor_kromaticni_indeks(snark_3337)"
   ]
  },
  {
   "cell_type": "code",
   "execution_count": 34,
   "metadata": {},
   "outputs": [
    {
     "data": {
      "text/plain": [
       "4"
      ]
     },
     "execution_count": 34,
     "metadata": {},
     "output_type": "execute_result"
    }
   ],
   "source": [
    "nakljucni_izbor_kromaticni_indeks(snark_3363)"
   ]
  },
  {
   "cell_type": "code",
   "execution_count": 35,
   "metadata": {},
   "outputs": [
    {
     "data": {
      "text/plain": [
       "4"
      ]
     },
     "execution_count": 35,
     "metadata": {},
     "output_type": "execute_result"
    }
   ],
   "source": [
    "nakljucni_izbor_kromaticni_indeks(graf_25159)"
   ]
  },
  {
   "cell_type": "markdown",
   "metadata": {},
   "source": [
    "Poglejmo še kaj se zgodi, če 4-cikel uvedemo na drugačen način. Zdaj bomo vzeli dve sosednji vozlišči a in b, ki imata sosednja vozlišča a1 in a2 ter b1 in b2. Nato povezali a1 in b1 ter a2 in b2. Na koncu odstranimi povezavo ab in izračunamo kromatični indeks novega grafa. "
   ]
  },
  {
   "cell_type": "code",
   "execution_count": 36,
   "metadata": {},
   "outputs": [],
   "source": [
    "G = graphs.PetersenGraph()\n",
    "celmins_swart_snark_1 = Graph({0: [1, 2, 3], 1: [0, 23, 25], 2: [0, 21, 24], 3: [0, 20, 22],4: [8, 12, 14], 5: [6, 8, 13], 6: [5, 9, 14], 7: [10, 11, 15],8: [4, 5, 18], 9: [6, 10, 18], 10: [7, 9, 17], 11: [7, 19, 22],12: [4, 13, 25], 13: [5, 12, 21], 14: [4, 6, 21], 15: [7, 16, 20],16: [15, 17, 22], 17: [10, 16, 23], 18: [8, 9, 23], 19: [11, 20, 24],20: [3, 15, 19], 21: [2, 13, 14], 22: [3, 11, 16], 23: [1, 17, 18],24: [2, 19, 25], 25: [1, 12, 24]})\n",
    "celmins_swart_snark_2 = Graph({0: [1, 2, 3], 1: [0, 21, 25], 2: [0, 22, 23], 3: [0, 20, 24],4: [5, 6, 9], 5: [4, 13, 16], 6: [4, 12, 17], 7: [8, 11, 17],8: [7, 12, 19], 9: [4, 10, 14], 10: [9, 11, 16], 11: [7, 10, 18], 12: [6, 8, 15], 13: [5, 14, 15], 14: [9, 13, 23], 15: [12, 13, 20],16: [5, 10, 21], 17: [6, 7, 20], 18: [11, 19, 21], 19: [8, 18, 22],20: [3, 15, 17], 21: [1, 16, 18], 22: [2, 19, 25], 23: [2, 14, 24],24: [3, 23, 25], 25: [1, 22, 24]})\n",
    "double_star_snark = Graph({0: [1, 2, 3], 1: [0, 24, 27], 2: [0, 26, 29], 3: [0, 25, 28],4: [7, 8, 15], 5: [6, 11, 14], 6: [5, 10, 15], 7: [4, 9, 14],8: [4, 12, 16], 9: [7, 13, 17], 10: [6, 12, 17], 11: [5, 13, 16],12: [8, 10, 20], 13: [9, 11, 21], 14: [5, 7, 26], 15: [4, 6, 25],16: [8, 11, 27], 17: [9, 10, 27], 18: [21, 23, 29], 19: [20, 22, 28],20: [12, 19, 29], 21: [13, 18, 28], 22: [19, 24, 26], 23: [18, 24, 25],24: [1, 22, 23], 25: [3, 15, 23], 26: [2, 14, 22], 27: [1, 16, 17],28: [3, 19, 21], 29: [2, 18, 20]})\n",
    "flower_snark_j5 = Graph({0: [1, 2, 3], 1: [0, 14, 15], 2: [0, 17, 19], 3: [0, 16, 18],4: [7, 8, 9], 5: [6, 10, 11], 6: [5, 9, 14], 7: [4, 10, 15],8: [4, 11, 16], 9: [4, 6, 17], 10: [5, 7, 19], 11: [5, 8, 18],12: [14, 18, 19], 13: [15, 16, 17], 14: [1, 6, 12], 15: [1, 7, 13],16: [3, 8, 13], 17: [2, 9, 13], 18: [3, 11, 12], 19: [2, 10, 12]})\n",
    "flower_snark_j7 = Graph({0: [1, 2, 3], 1: [0, 22, 23], 2: [0, 25, 27], 3: [0, 24, 26],4: [7, 8, 12], 5: [6, 9, 12], 6: [5, 11, 13], 7: [4, 10, 13],8: [4, 14, 18], 9: [5, 14, 21], 10: [7, 15, 20], 11: [6, 15, 19],12: [4, 5, 17], 13: [6, 7, 16], 14: [8, 9, 26], 15: [10, 11, 27],16: [13, 17, 27], 17: [12, 16, 26], 18: [8, 22, 24], 19: [11, 22, 25],20: [10, 23, 25], 21: [9, 23, 24], 22: [1, 18, 19], 23: [1, 20, 21],24: [3, 18, 21], 25: [2, 19, 20], 26: [3, 14, 17], 27: [2, 15, 16]})\n",
    "goldberg_snark_3 = Graph({0: [1, 2, 3], 1: [0, 18, 20], 2: [0, 19, 21], 3: [0, 22, 23], 4: [5, 8, 13],5: [4, 9, 14], 6: [7, 10, 15], 7: [6, 11, 12], 8: [4, 12, 16],9: [5, 15, 17], 10: [6, 14, 17], 11: [7, 13, 16], 12: [7, 8, 21],13: [4, 11, 18], 14: [5, 10, 19], 15: [6, 9, 20], 16: [8, 11, 23],19: [9, 10, 22], 18: [1, 13, 19], 19: [2, 14, 18], 20: [1, 15, 21],21: [2, 12, 20], 22: [3, 17, 23], 23: [3, 16, 22]})\n",
    "goldberg_snark_5 = Graph({0: [1, 2, 3], 1: [0, 34, 39], 2: [0, 35, 37], 3: [0, 36, 38],4: [26, 27, 33], 5: [24, 25, 32], 6: [22, 23, 25], 7: [13, 14, 24],8: [23, 30, 31], 9: [10, 11, 22], 10: [11, 18, 21], 11: [9, 19, 20],12: [13, 16, 27], 13: [7, 12, 15], 14: [7, 16, 28], 15: [13, 19, 28],16: [12, 14, 21], 17: [20, 29, 30], 18: [10, 19, 31], 19: [11, 15, 18],20: [11, 17, 21], 21: [10, 16, 20], 22: [6, 9, 24], 23: [6, 8, 29],24: [5, 7, 22], 25: [5, 6, 39], 26: [4, 32, 37], 27: [4, 12, 35],28: [14, 15, 37], 29: [17, 23, 36], 30: [8, 17, 34], 31: [8, 18, 36],32: [5, 26, 35], 33: [4, 34, 38], 34: [1, 30, 33], 35: [2, 27, 32],36: [3, 29, 31], 37: [2, 26, 28], 38: [3, 33, 39], 39: [1, 25, 38]})\n",
    "loupekines_snark_1 = Graph({0: [1, 2, 3], 1: [0, 16, 21], 2: [0, 18, 20], 3: [0, 17, 19],4: [10, 12, 14], 5: [11, 13, 15], 6: [9, 12, 15], 7: [8, 13, 14],8: [7, 10, 16], 9: [6, 11, 16], 10: [4, 8, 17], 11: [5, 9, 18],12: [4, 6, 18], 13: [5, 7, 17], 14: [4, 7, 20], 15: [5, 6, 19],16: [1, 8, 9], 17: [3, 10, 13], 18: [2, 11, 12], 19: [3, 15, 21],20: [2, 14, 21], 21: [1, 19, 20]})\n",
    "loupekines_snark_2 = Graph({0: [1, 2, 3], 1: [0, 16, 21], 2: [0, 18, 20], 3: [0, 17, 19],4: [8, 10, 14], 5: [9, 11, 15], 6: [7, 12, 15], 7: [6, 13, 14],8: [4, 13, 16], 9: [5, 12, 16], 10: [4, 11, 17], 11: [5, 10, 18],12: [6, 9, 18], 13: [7, 8, 17], 14: [4, 7, 20], 15: [5, 6, 19],16: [1, 8, 9], 17: [3, 10, 13], 18: [2, 11, 12], 19: [3, 15, 21],20: [2, 14, 21], 21: [1, 19, 20]})\n",
    "snark_2760 = Graph({0: [1, 2, 3], 1: [0, 15, 17], 2: [0, 14, 16], 3: [0, 12, 13], 4: [5, 9, 11],5: [4, 7, 8], 6: [7, 9, 12], 7: [5, 6, 13], 8: [5, 10, 12], 9: [4, 6, 16],10: [8, 13, 17], 11: [4, 14, 15], 12: [3, 6, 8], 13: [3, 7, 10], 14: [2, 11, 17],15: [1, 11, 16], 16: [2, 9, 15], 17: [1, 10, 14]})\n",
    "snark_3337 = Graph({0: [1, 2, 3], 1: [0, 29, 32], 2: [0, 28, 33], 3: [0, 30, 31], 4: [12, 14, 18],5: [13, 15, 19], 6: [11, 14, 16], 7: [10, 15, 17], 8: [9, 26, 27], 9: [8, 16, 17],10: [7, 13, 20], 11: [6, 12, 21], 12: [4, 11, 23], 13: [5, 10, 22],14: [4, 6, 24], 15: [5, 7, 25], 16: [6, 9, 23], 17: [7, 9, 22], 18: [4, 21, 25],19: [5, 20, 24], 20: [10, 19, 31], 21: [11, 18, 30], 22: [13, 17, 31],23: [12, 16, 30], 24: [14, 19, 29], 25: [15, 18, 28], 26: [8, 29, 33], 27: [8, 28, 32], 28: [2, 25, 27], 29: [1, 24, 26], 30: [3, 21, 23], 31: [3, 20, 22], 32: [1, 27, 33], 33: [2, 26, 32]})\n",
    "snark_3363 = Graph({0: [1, 2, 3], 1: [0, 30, 35], 2: [0, 32, 34], 3: [0, 31, 33], 4: [11, 25, 29],5: [9, 10, 27], 6: [8, 12, 29], 7: [15, 24, 28], 8: [6, 17, 26], 9: [5, 11, 16],10: [5, 13, 28], 11: [4, 9, 14], 12: [6, 19, 24], 13: [10, 18, 25], 14: [11, 15, 20],15: [7, 14, 21], 16: [9, 17, 21], 17: [8, 16, 20], 18: [13, 23, 27], 19: [12, 23, 26], 20: [14, 17, 22], 21: [15, 16, 22], 22: [20, 21, 30],23: [18, 19, 30], 24: [7, 12, 32], 25: [4, 13, 31], 26: [8, 19, 32], 27: [5, 18, 31], 28: [7, 10, 34], 29: [4, 6, 33], 30: [1, 22, 23], 31: [3, 25, 27],32: [2, 24, 26], 33: [3, 29, 35], 34: [2, 28, 35], 35: [1, 33, 34]})\n",
    "graf_25159 = Graph({0: [1, 2, 3], 1: [0, 42, 43], 2: [0, 39, 40], 3: [0, 38, 41], 4: [9, 12, 13], 5: [8, 10, 11], 6: [7, 14, 16], 7: [6, 15, 17], 8: [5, 14, 15], 9: [4, 16, 17], 10: [5, 13, 18], 11: [5, 12, 19], 12: [4, 11, 18], 13: [4, 10, 19], 14: [6, 8, 20], 15: [7, 8, 21], 16: [6, 9, 21], 17: [7, 9, 20], 18: [10, 12, 22], 19: [11, 13, 23], 20: [14, 17, 25], 21: [15, 16, 24], 22: [18, 28, 29], 23: [19, 26, 27], 24: [21, 32, 33], 25: [20, 30, 31], 26: [23, 29, 34], 27: [23, 28, 35], 28: [22, 27, 34], 29: [22, 26, 35], 30: [25, 33, 37], 31: [25, 32, 36], 32: [24, 31, 37], 33: [24, 30, 36], 34: [26, 28, 38], 35: [27, 29, 39], 36: [31, 33, 41], 37: [30, 32, 40], 38: [3, 34, 43], 39: [2, 35, 42], 40: [2, 37, 43], 41: [3, 36, 42], 42: [1, 39, 41], 43: [1, 38, 40]})"
   ]
  },
  {
   "cell_type": "code",
   "execution_count": 37,
   "metadata": {},
   "outputs": [],
   "source": [
    "import random\n",
    "\n",
    "def nakljucni_kromaticni_indeks_drugi(snark):\n",
    "    \n",
    "    vertices_list = list(snark.vertices())\n",
    "    a = random.choice(vertices_list)\n",
    "    \n",
    "    neighbors_of_a = snark.neighbors(a)\n",
    "    \n",
    "    b = random.choice(neighbors_of_a)\n",
    "    neighbors_of_b = snark.neighbors(b)\n",
    "    \n",
    "    neighbors_of_a.remove(b)\n",
    "    neighbors_of_b.remove(a)\n",
    "    \n",
    "    a1 = neighbors_of_a[0]\n",
    "    a2 = neighbors_of_a[1]\n",
    "    b1 = neighbors_of_b[0]\n",
    "    b2 = neighbors_of_b[1]\n",
    "    \n",
    "    snark.add_edge(a1,b1)\n",
    "    snark.add_edge(a2,b2)\n",
    "\n",
    "    snark.delete_edge(a,b)\n",
    "    \n",
    "    return snark.chromatic_index()"
   ]
  },
  {
   "cell_type": "code",
   "execution_count": 38,
   "metadata": {},
   "outputs": [
    {
     "data": {
      "text/plain": [
       "4"
      ]
     },
     "execution_count": 38,
     "metadata": {},
     "output_type": "execute_result"
    }
   ],
   "source": [
    "nakljucni_kromaticni_indeks_drugi(G)"
   ]
  },
  {
   "cell_type": "code",
   "execution_count": 39,
   "metadata": {},
   "outputs": [
    {
     "data": {
      "text/plain": [
       "4"
      ]
     },
     "execution_count": 39,
     "metadata": {},
     "output_type": "execute_result"
    }
   ],
   "source": [
    "nakljucni_kromaticni_indeks_drugi(celmins_swart_snark_1)"
   ]
  },
  {
   "cell_type": "code",
   "execution_count": 40,
   "metadata": {},
   "outputs": [
    {
     "data": {
      "text/plain": [
       "4"
      ]
     },
     "execution_count": 40,
     "metadata": {},
     "output_type": "execute_result"
    }
   ],
   "source": [
    "nakljucni_kromaticni_indeks_drugi(celmins_swart_snark_2)"
   ]
  },
  {
   "cell_type": "code",
   "execution_count": 41,
   "metadata": {},
   "outputs": [
    {
     "data": {
      "text/plain": [
       "4"
      ]
     },
     "execution_count": 41,
     "metadata": {},
     "output_type": "execute_result"
    }
   ],
   "source": [
    "nakljucni_kromaticni_indeks_drugi(double_star_snark)"
   ]
  },
  {
   "cell_type": "code",
   "execution_count": 42,
   "metadata": {},
   "outputs": [
    {
     "data": {
      "text/plain": [
       "4"
      ]
     },
     "execution_count": 42,
     "metadata": {},
     "output_type": "execute_result"
    }
   ],
   "source": [
    "nakljucni_kromaticni_indeks_drugi(flower_snark_j5)"
   ]
  },
  {
   "cell_type": "code",
   "execution_count": 43,
   "metadata": {},
   "outputs": [
    {
     "data": {
      "text/plain": [
       "4"
      ]
     },
     "execution_count": 43,
     "metadata": {},
     "output_type": "execute_result"
    }
   ],
   "source": [
    "nakljucni_kromaticni_indeks_drugi(flower_snark_j7)"
   ]
  },
  {
   "cell_type": "code",
   "execution_count": 44,
   "metadata": {},
   "outputs": [
    {
     "data": {
      "text/plain": [
       "4"
      ]
     },
     "execution_count": 44,
     "metadata": {},
     "output_type": "execute_result"
    }
   ],
   "source": [
    "nakljucni_kromaticni_indeks_drugi(goldberg_snark_3)"
   ]
  },
  {
   "cell_type": "code",
   "execution_count": 45,
   "metadata": {},
   "outputs": [
    {
     "data": {
      "text/plain": [
       "4"
      ]
     },
     "execution_count": 45,
     "metadata": {},
     "output_type": "execute_result"
    }
   ],
   "source": [
    "nakljucni_kromaticni_indeks_drugi(goldberg_snark_5)"
   ]
  },
  {
   "cell_type": "code",
   "execution_count": 46,
   "metadata": {},
   "outputs": [
    {
     "data": {
      "text/plain": [
       "4"
      ]
     },
     "execution_count": 46,
     "metadata": {},
     "output_type": "execute_result"
    }
   ],
   "source": [
    "nakljucni_kromaticni_indeks_drugi(loupekines_snark_1)"
   ]
  },
  {
   "cell_type": "code",
   "execution_count": 47,
   "metadata": {},
   "outputs": [
    {
     "data": {
      "text/plain": [
       "4"
      ]
     },
     "execution_count": 47,
     "metadata": {},
     "output_type": "execute_result"
    }
   ],
   "source": [
    "nakljucni_kromaticni_indeks_drugi(loupekines_snark_2)"
   ]
  },
  {
   "cell_type": "code",
   "execution_count": 48,
   "metadata": {},
   "outputs": [
    {
     "data": {
      "text/plain": [
       "4"
      ]
     },
     "execution_count": 48,
     "metadata": {},
     "output_type": "execute_result"
    }
   ],
   "source": [
    "nakljucni_kromaticni_indeks_drugi(snark_2760)"
   ]
  },
  {
   "cell_type": "code",
   "execution_count": 49,
   "metadata": {},
   "outputs": [
    {
     "data": {
      "text/plain": [
       "4"
      ]
     },
     "execution_count": 49,
     "metadata": {},
     "output_type": "execute_result"
    }
   ],
   "source": [
    "nakljucni_kromaticni_indeks_drugi(snark_3337)"
   ]
  },
  {
   "cell_type": "code",
   "execution_count": 50,
   "metadata": {},
   "outputs": [
    {
     "data": {
      "text/plain": [
       "4"
      ]
     },
     "execution_count": 50,
     "metadata": {},
     "output_type": "execute_result"
    }
   ],
   "source": [
    "nakljucni_kromaticni_indeks_drugi(snark_3363)"
   ]
  },
  {
   "cell_type": "code",
   "execution_count": 51,
   "metadata": {},
   "outputs": [
    {
     "data": {
      "text/plain": [
       "4"
      ]
     },
     "execution_count": 51,
     "metadata": {},
     "output_type": "execute_result"
    }
   ],
   "source": [
    "nakljucni_kromaticni_indeks_drugi(graf_25159)"
   ]
  }
 ],
 "metadata": {
  "kernelspec": {
   "display_name": "SageMath 9.3",
   "language": "sage",
   "name": "sagemath"
  },
  "language_info": {
   "codemirror_mode": {
    "name": "ipython",
    "version": 3
   },
   "file_extension": ".py",
   "mimetype": "text/x-python",
   "name": "python",
   "nbconvert_exporter": "python",
   "pygments_lexer": "ipython3",
   "version": "3.7.10"
  }
 },
 "nbformat": 4,
 "nbformat_minor": 4
}
